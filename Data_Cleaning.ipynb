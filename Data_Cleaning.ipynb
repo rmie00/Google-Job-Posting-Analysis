{
 "cells": [
  {
   "cell_type": "code",
   "execution_count": 98,
   "id": "c06be7ce-e760-4ade-832a-3424c9b2ca21",
   "metadata": {
    "tags": []
   },
   "outputs": [],
   "source": [
    "import pandas as pd\n",
    "import numpy as np\n",
    "import ast\n",
    "import warnings\n",
    "warnings.filterwarnings('ignore')"
   ]
  },
  {
   "cell_type": "code",
   "execution_count": 99,
   "id": "a9ae4b83-f6ec-4419-9ee3-80c349753137",
   "metadata": {
    "tags": []
   },
   "outputs": [],
   "source": [
    "df = pd.read_csv('gsearch_jobs.csv')"
   ]
  },
  {
   "cell_type": "code",
   "execution_count": 100,
   "id": "31985fe7-4584-4fe7-a4d5-5c331f757b60",
   "metadata": {
    "tags": []
   },
   "outputs": [],
   "source": [
    "df = df.drop(df.columns[[1,2]], axis=1)"
   ]
  },
  {
   "cell_type": "code",
   "execution_count": 101,
   "id": "0431fc4a-5c52-4a4e-929a-efe490bd2bba",
   "metadata": {
    "tags": []
   },
   "outputs": [
    {
     "data": {
      "text/html": [
       "<div>\n",
       "<style scoped>\n",
       "    .dataframe tbody tr th:only-of-type {\n",
       "        vertical-align: middle;\n",
       "    }\n",
       "\n",
       "    .dataframe tbody tr th {\n",
       "        vertical-align: top;\n",
       "    }\n",
       "\n",
       "    .dataframe thead th {\n",
       "        text-align: right;\n",
       "    }\n",
       "</style>\n",
       "<table border=\"1\" class=\"dataframe\">\n",
       "  <thead>\n",
       "    <tr style=\"text-align: right;\">\n",
       "      <th></th>\n",
       "      <th>Unnamed: 0</th>\n",
       "      <th>company_name</th>\n",
       "      <th>location</th>\n",
       "      <th>via</th>\n",
       "      <th>description</th>\n",
       "      <th>extensions</th>\n",
       "      <th>job_id</th>\n",
       "      <th>thumbnail</th>\n",
       "      <th>posted_at</th>\n",
       "      <th>schedule_type</th>\n",
       "      <th>...</th>\n",
       "      <th>commute_time</th>\n",
       "      <th>salary_pay</th>\n",
       "      <th>salary_rate</th>\n",
       "      <th>salary_avg</th>\n",
       "      <th>salary_min</th>\n",
       "      <th>salary_max</th>\n",
       "      <th>salary_hourly</th>\n",
       "      <th>salary_yearly</th>\n",
       "      <th>salary_standardized</th>\n",
       "      <th>description_tokens</th>\n",
       "    </tr>\n",
       "  </thead>\n",
       "  <tbody>\n",
       "    <tr>\n",
       "      <th>0</th>\n",
       "      <td>0</td>\n",
       "      <td>Cisco Meraki</td>\n",
       "      <td>Anywhere</td>\n",
       "      <td>via LinkedIn</td>\n",
       "      <td>As the leader in cloud-managed IT, Cisco Merak...</td>\n",
       "      <td>['22 hours ago', 'Work from home', 'Full-time'...</td>\n",
       "      <td>eyJqb2JfdGl0bGUiOiJEYXRhIEFuYWx5c3QiLCJodGlkb2...</td>\n",
       "      <td>https://encrypted-tbn0.gstatic.com/images?q=tb...</td>\n",
       "      <td>22 hours ago</td>\n",
       "      <td>Full-time</td>\n",
       "      <td>...</td>\n",
       "      <td>NaN</td>\n",
       "      <td>NaN</td>\n",
       "      <td>NaN</td>\n",
       "      <td>NaN</td>\n",
       "      <td>NaN</td>\n",
       "      <td>NaN</td>\n",
       "      <td>NaN</td>\n",
       "      <td>NaN</td>\n",
       "      <td>NaN</td>\n",
       "      <td>['tableau', 'sql', 'aws']</td>\n",
       "    </tr>\n",
       "    <tr>\n",
       "      <th>1</th>\n",
       "      <td>1</td>\n",
       "      <td>Midwest Staffing</td>\n",
       "      <td>Anywhere</td>\n",
       "      <td>via LinkedIn</td>\n",
       "      <td>As a Senior Business Analyst you will contribu...</td>\n",
       "      <td>['53 minutes ago', 'Work from home', 'Full-tim...</td>\n",
       "      <td>eyJqb2JfdGl0bGUiOiJFbnRyeSBMZXZlbCAtIEJ1c2luZX...</td>\n",
       "      <td>https://encrypted-tbn0.gstatic.com/images?q=tb...</td>\n",
       "      <td>53 minutes ago</td>\n",
       "      <td>Full-time</td>\n",
       "      <td>...</td>\n",
       "      <td>NaN</td>\n",
       "      <td>NaN</td>\n",
       "      <td>NaN</td>\n",
       "      <td>NaN</td>\n",
       "      <td>NaN</td>\n",
       "      <td>NaN</td>\n",
       "      <td>NaN</td>\n",
       "      <td>NaN</td>\n",
       "      <td>NaN</td>\n",
       "      <td>[]</td>\n",
       "    </tr>\n",
       "    <tr>\n",
       "      <th>2</th>\n",
       "      <td>2</td>\n",
       "      <td>Amyx, Inc.</td>\n",
       "      <td>United States</td>\n",
       "      <td>via Indeed</td>\n",
       "      <td>Overview:\\n\\nAmyx is seeking to hire a Data An...</td>\n",
       "      <td>['3 hours ago', 'Full-time']</td>\n",
       "      <td>eyJqb2JfdGl0bGUiOiJEYXRhIEFuYWx5c3QvUmVzZWFyY2...</td>\n",
       "      <td>NaN</td>\n",
       "      <td>3 hours ago</td>\n",
       "      <td>Full-time</td>\n",
       "      <td>...</td>\n",
       "      <td>NaN</td>\n",
       "      <td>NaN</td>\n",
       "      <td>NaN</td>\n",
       "      <td>NaN</td>\n",
       "      <td>NaN</td>\n",
       "      <td>NaN</td>\n",
       "      <td>NaN</td>\n",
       "      <td>NaN</td>\n",
       "      <td>NaN</td>\n",
       "      <td>['sql', 'azure', 'excel']</td>\n",
       "    </tr>\n",
       "    <tr>\n",
       "      <th>3</th>\n",
       "      <td>3</td>\n",
       "      <td>Upwork</td>\n",
       "      <td>Anywhere</td>\n",
       "      <td>via Upwork</td>\n",
       "      <td>I am looking for someone to help me build an A...</td>\n",
       "      <td>['23 hours ago', 'Work from home', 'Contractor']</td>\n",
       "      <td>eyJqb2JfdGl0bGUiOiJEYXRhIGFuYWx5c3QvQUkgZXhwZX...</td>\n",
       "      <td>NaN</td>\n",
       "      <td>23 hours ago</td>\n",
       "      <td>Contractor</td>\n",
       "      <td>...</td>\n",
       "      <td>NaN</td>\n",
       "      <td>NaN</td>\n",
       "      <td>NaN</td>\n",
       "      <td>NaN</td>\n",
       "      <td>NaN</td>\n",
       "      <td>NaN</td>\n",
       "      <td>NaN</td>\n",
       "      <td>NaN</td>\n",
       "      <td>NaN</td>\n",
       "      <td>['excel']</td>\n",
       "    </tr>\n",
       "    <tr>\n",
       "      <th>4</th>\n",
       "      <td>4</td>\n",
       "      <td>Bank Street College of Education</td>\n",
       "      <td>United States</td>\n",
       "      <td>via Higher Education Recruitment Consortium (H...</td>\n",
       "      <td>Position Vacancy – Data Analyst to support the...</td>\n",
       "      <td>['20 hours ago', 'Full-time']</td>\n",
       "      <td>eyJqb2JfdGl0bGUiOiJEYXRhIEFuYWx5c3QiLCJodGlkb2...</td>\n",
       "      <td>NaN</td>\n",
       "      <td>20 hours ago</td>\n",
       "      <td>Full-time</td>\n",
       "      <td>...</td>\n",
       "      <td>NaN</td>\n",
       "      <td>NaN</td>\n",
       "      <td>NaN</td>\n",
       "      <td>NaN</td>\n",
       "      <td>NaN</td>\n",
       "      <td>NaN</td>\n",
       "      <td>NaN</td>\n",
       "      <td>NaN</td>\n",
       "      <td>NaN</td>\n",
       "      <td>['excel', 'powerpoint']</td>\n",
       "    </tr>\n",
       "    <tr>\n",
       "      <th>...</th>\n",
       "      <td>...</td>\n",
       "      <td>...</td>\n",
       "      <td>...</td>\n",
       "      <td>...</td>\n",
       "      <td>...</td>\n",
       "      <td>...</td>\n",
       "      <td>...</td>\n",
       "      <td>...</td>\n",
       "      <td>...</td>\n",
       "      <td>...</td>\n",
       "      <td>...</td>\n",
       "      <td>...</td>\n",
       "      <td>...</td>\n",
       "      <td>...</td>\n",
       "      <td>...</td>\n",
       "      <td>...</td>\n",
       "      <td>...</td>\n",
       "      <td>...</td>\n",
       "      <td>...</td>\n",
       "      <td>...</td>\n",
       "      <td>...</td>\n",
       "    </tr>\n",
       "    <tr>\n",
       "      <th>37175</th>\n",
       "      <td>37175</td>\n",
       "      <td>EDWARD JONES</td>\n",
       "      <td>Houstonia, MO</td>\n",
       "      <td>via My ArkLaMiss Jobs</td>\n",
       "      <td>At Edward Jones, we help clients achieve their...</td>\n",
       "      <td>['23 hours ago', '76,798–130,764 a year', 'Ful...</td>\n",
       "      <td>eyJqb2JfdGl0bGUiOiJNYXJrZXRpbmcgRGF0YSBcdTAwMj...</td>\n",
       "      <td>NaN</td>\n",
       "      <td>23 hours ago</td>\n",
       "      <td>Full-time</td>\n",
       "      <td>...</td>\n",
       "      <td>NaN</td>\n",
       "      <td>76798–130764</td>\n",
       "      <td>a year</td>\n",
       "      <td>103781.0</td>\n",
       "      <td>76798.0</td>\n",
       "      <td>130764.0</td>\n",
       "      <td>NaN</td>\n",
       "      <td>103781.0</td>\n",
       "      <td>103781.0</td>\n",
       "      <td>['power_bi', 'excel', 'r', 'python', 'tableau'...</td>\n",
       "    </tr>\n",
       "    <tr>\n",
       "      <th>37176</th>\n",
       "      <td>37176</td>\n",
       "      <td>EDWARD JONES</td>\n",
       "      <td>Marshfield, MO</td>\n",
       "      <td>via My ArkLaMiss Jobs</td>\n",
       "      <td>At Edward Jones, we help clients achieve their...</td>\n",
       "      <td>['23 hours ago', '106,916–182,047 a year', 'Fu...</td>\n",
       "      <td>eyJqb2JfdGl0bGUiOiJMZWFkLURhdGEgQW5hbHlzdCIsIm...</td>\n",
       "      <td>NaN</td>\n",
       "      <td>23 hours ago</td>\n",
       "      <td>Full-time</td>\n",
       "      <td>...</td>\n",
       "      <td>NaN</td>\n",
       "      <td>106916–182047</td>\n",
       "      <td>a year</td>\n",
       "      <td>144481.5</td>\n",
       "      <td>106916.0</td>\n",
       "      <td>182047.0</td>\n",
       "      <td>NaN</td>\n",
       "      <td>144481.5</td>\n",
       "      <td>144481.5</td>\n",
       "      <td>[]</td>\n",
       "    </tr>\n",
       "    <tr>\n",
       "      <th>37177</th>\n",
       "      <td>37177</td>\n",
       "      <td>EDWARD JONES</td>\n",
       "      <td>High Point, MO</td>\n",
       "      <td>via My ArkLaMiss Jobs</td>\n",
       "      <td>At Edward Jones, we help clients achieve their...</td>\n",
       "      <td>['23 hours ago', '106,916–182,047 a year', 'Fu...</td>\n",
       "      <td>eyJqb2JfdGl0bGUiOiJMZWFkLURhdGEgQW5hbHlzdCIsIm...</td>\n",
       "      <td>NaN</td>\n",
       "      <td>23 hours ago</td>\n",
       "      <td>Full-time</td>\n",
       "      <td>...</td>\n",
       "      <td>NaN</td>\n",
       "      <td>106916–182047</td>\n",
       "      <td>a year</td>\n",
       "      <td>144481.5</td>\n",
       "      <td>106916.0</td>\n",
       "      <td>182047.0</td>\n",
       "      <td>NaN</td>\n",
       "      <td>144481.5</td>\n",
       "      <td>144481.5</td>\n",
       "      <td>[]</td>\n",
       "    </tr>\n",
       "    <tr>\n",
       "      <th>37178</th>\n",
       "      <td>37178</td>\n",
       "      <td>EDWARD JONES</td>\n",
       "      <td>Calhoun, MO</td>\n",
       "      <td>via My ArkLaMiss Jobs</td>\n",
       "      <td>At Edward Jones, we help clients achieve their...</td>\n",
       "      <td>['23 hours ago', '106,916–182,047 a year', 'Fu...</td>\n",
       "      <td>eyJqb2JfdGl0bGUiOiJMZWFkLURhdGEgQW5hbHlzdCIsIm...</td>\n",
       "      <td>NaN</td>\n",
       "      <td>23 hours ago</td>\n",
       "      <td>Full-time</td>\n",
       "      <td>...</td>\n",
       "      <td>NaN</td>\n",
       "      <td>106916–182047</td>\n",
       "      <td>a year</td>\n",
       "      <td>144481.5</td>\n",
       "      <td>106916.0</td>\n",
       "      <td>182047.0</td>\n",
       "      <td>NaN</td>\n",
       "      <td>144481.5</td>\n",
       "      <td>144481.5</td>\n",
       "      <td>[]</td>\n",
       "    </tr>\n",
       "    <tr>\n",
       "      <th>37179</th>\n",
       "      <td>37179</td>\n",
       "      <td>Citi</td>\n",
       "      <td>United States</td>\n",
       "      <td>via My ArkLaMiss Jobs</td>\n",
       "      <td>The Institutional Credit Management (ICM) grou...</td>\n",
       "      <td>['24 hours ago', '105,850–158,780 a year', 'Fu...</td>\n",
       "      <td>eyJqb2JfdGl0bGUiOiJJbnN0aXR1dGlvbmFsIENyZWRpdC...</td>\n",
       "      <td>https://encrypted-tbn0.gstatic.com/images?q=tb...</td>\n",
       "      <td>24 hours ago</td>\n",
       "      <td>Full-time</td>\n",
       "      <td>...</td>\n",
       "      <td>NaN</td>\n",
       "      <td>105850–158780</td>\n",
       "      <td>a year</td>\n",
       "      <td>132315.0</td>\n",
       "      <td>105850.0</td>\n",
       "      <td>158780.0</td>\n",
       "      <td>NaN</td>\n",
       "      <td>132315.0</td>\n",
       "      <td>132315.0</td>\n",
       "      <td>['tableau', 'cognos']</td>\n",
       "    </tr>\n",
       "  </tbody>\n",
       "</table>\n",
       "<p>37180 rows × 25 columns</p>\n",
       "</div>"
      ],
      "text/plain": [
       "       Unnamed: 0                      company_name            location  \\\n",
       "0               0                      Cisco Meraki           Anywhere    \n",
       "1               1                  Midwest Staffing           Anywhere    \n",
       "2               2                        Amyx, Inc.    United States      \n",
       "3               3                            Upwork           Anywhere    \n",
       "4               4  Bank Street College of Education    United States      \n",
       "...           ...                               ...                 ...   \n",
       "37175       37175                      EDWARD JONES       Houstonia, MO   \n",
       "37176       37176                      EDWARD JONES      Marshfield, MO   \n",
       "37177       37177                      EDWARD JONES      High Point, MO   \n",
       "37178       37178                      EDWARD JONES         Calhoun, MO   \n",
       "37179       37179                              Citi       United States   \n",
       "\n",
       "                                                     via  \\\n",
       "0                                           via LinkedIn   \n",
       "1                                           via LinkedIn   \n",
       "2                                             via Indeed   \n",
       "3                                             via Upwork   \n",
       "4      via Higher Education Recruitment Consortium (H...   \n",
       "...                                                  ...   \n",
       "37175                              via My ArkLaMiss Jobs   \n",
       "37176                              via My ArkLaMiss Jobs   \n",
       "37177                              via My ArkLaMiss Jobs   \n",
       "37178                              via My ArkLaMiss Jobs   \n",
       "37179                              via My ArkLaMiss Jobs   \n",
       "\n",
       "                                             description  \\\n",
       "0      As the leader in cloud-managed IT, Cisco Merak...   \n",
       "1      As a Senior Business Analyst you will contribu...   \n",
       "2      Overview:\\n\\nAmyx is seeking to hire a Data An...   \n",
       "3      I am looking for someone to help me build an A...   \n",
       "4      Position Vacancy – Data Analyst to support the...   \n",
       "...                                                  ...   \n",
       "37175  At Edward Jones, we help clients achieve their...   \n",
       "37176  At Edward Jones, we help clients achieve their...   \n",
       "37177  At Edward Jones, we help clients achieve their...   \n",
       "37178  At Edward Jones, we help clients achieve their...   \n",
       "37179  The Institutional Credit Management (ICM) grou...   \n",
       "\n",
       "                                              extensions  \\\n",
       "0      ['22 hours ago', 'Work from home', 'Full-time'...   \n",
       "1      ['53 minutes ago', 'Work from home', 'Full-tim...   \n",
       "2                           ['3 hours ago', 'Full-time']   \n",
       "3       ['23 hours ago', 'Work from home', 'Contractor']   \n",
       "4                          ['20 hours ago', 'Full-time']   \n",
       "...                                                  ...   \n",
       "37175  ['23 hours ago', '76,798–130,764 a year', 'Ful...   \n",
       "37176  ['23 hours ago', '106,916–182,047 a year', 'Fu...   \n",
       "37177  ['23 hours ago', '106,916–182,047 a year', 'Fu...   \n",
       "37178  ['23 hours ago', '106,916–182,047 a year', 'Fu...   \n",
       "37179  ['24 hours ago', '105,850–158,780 a year', 'Fu...   \n",
       "\n",
       "                                                  job_id  \\\n",
       "0      eyJqb2JfdGl0bGUiOiJEYXRhIEFuYWx5c3QiLCJodGlkb2...   \n",
       "1      eyJqb2JfdGl0bGUiOiJFbnRyeSBMZXZlbCAtIEJ1c2luZX...   \n",
       "2      eyJqb2JfdGl0bGUiOiJEYXRhIEFuYWx5c3QvUmVzZWFyY2...   \n",
       "3      eyJqb2JfdGl0bGUiOiJEYXRhIGFuYWx5c3QvQUkgZXhwZX...   \n",
       "4      eyJqb2JfdGl0bGUiOiJEYXRhIEFuYWx5c3QiLCJodGlkb2...   \n",
       "...                                                  ...   \n",
       "37175  eyJqb2JfdGl0bGUiOiJNYXJrZXRpbmcgRGF0YSBcdTAwMj...   \n",
       "37176  eyJqb2JfdGl0bGUiOiJMZWFkLURhdGEgQW5hbHlzdCIsIm...   \n",
       "37177  eyJqb2JfdGl0bGUiOiJMZWFkLURhdGEgQW5hbHlzdCIsIm...   \n",
       "37178  eyJqb2JfdGl0bGUiOiJMZWFkLURhdGEgQW5hbHlzdCIsIm...   \n",
       "37179  eyJqb2JfdGl0bGUiOiJJbnN0aXR1dGlvbmFsIENyZWRpdC...   \n",
       "\n",
       "                                               thumbnail       posted_at  \\\n",
       "0      https://encrypted-tbn0.gstatic.com/images?q=tb...    22 hours ago   \n",
       "1      https://encrypted-tbn0.gstatic.com/images?q=tb...  53 minutes ago   \n",
       "2                                                    NaN     3 hours ago   \n",
       "3                                                    NaN    23 hours ago   \n",
       "4                                                    NaN    20 hours ago   \n",
       "...                                                  ...             ...   \n",
       "37175                                                NaN    23 hours ago   \n",
       "37176                                                NaN    23 hours ago   \n",
       "37177                                                NaN    23 hours ago   \n",
       "37178                                                NaN    23 hours ago   \n",
       "37179  https://encrypted-tbn0.gstatic.com/images?q=tb...    24 hours ago   \n",
       "\n",
       "      schedule_type  ... commute_time     salary_pay salary_rate salary_avg  \\\n",
       "0         Full-time  ...          NaN            NaN         NaN        NaN   \n",
       "1         Full-time  ...          NaN            NaN         NaN        NaN   \n",
       "2         Full-time  ...          NaN            NaN         NaN        NaN   \n",
       "3        Contractor  ...          NaN            NaN         NaN        NaN   \n",
       "4         Full-time  ...          NaN            NaN         NaN        NaN   \n",
       "...             ...  ...          ...            ...         ...        ...   \n",
       "37175     Full-time  ...          NaN   76798–130764      a year   103781.0   \n",
       "37176     Full-time  ...          NaN  106916–182047      a year   144481.5   \n",
       "37177     Full-time  ...          NaN  106916–182047      a year   144481.5   \n",
       "37178     Full-time  ...          NaN  106916–182047      a year   144481.5   \n",
       "37179     Full-time  ...          NaN  105850–158780      a year   132315.0   \n",
       "\n",
       "      salary_min  salary_max salary_hourly salary_yearly  salary_standardized  \\\n",
       "0            NaN         NaN           NaN           NaN                  NaN   \n",
       "1            NaN         NaN           NaN           NaN                  NaN   \n",
       "2            NaN         NaN           NaN           NaN                  NaN   \n",
       "3            NaN         NaN           NaN           NaN                  NaN   \n",
       "4            NaN         NaN           NaN           NaN                  NaN   \n",
       "...          ...         ...           ...           ...                  ...   \n",
       "37175    76798.0    130764.0           NaN      103781.0             103781.0   \n",
       "37176   106916.0    182047.0           NaN      144481.5             144481.5   \n",
       "37177   106916.0    182047.0           NaN      144481.5             144481.5   \n",
       "37178   106916.0    182047.0           NaN      144481.5             144481.5   \n",
       "37179   105850.0    158780.0           NaN      132315.0             132315.0   \n",
       "\n",
       "                                      description_tokens  \n",
       "0                              ['tableau', 'sql', 'aws']  \n",
       "1                                                     []  \n",
       "2                              ['sql', 'azure', 'excel']  \n",
       "3                                              ['excel']  \n",
       "4                                ['excel', 'powerpoint']  \n",
       "...                                                  ...  \n",
       "37175  ['power_bi', 'excel', 'r', 'python', 'tableau'...  \n",
       "37176                                                 []  \n",
       "37177                                                 []  \n",
       "37178                                                 []  \n",
       "37179                              ['tableau', 'cognos']  \n",
       "\n",
       "[37180 rows x 25 columns]"
      ]
     },
     "execution_count": 101,
     "metadata": {},
     "output_type": "execute_result"
    }
   ],
   "source": [
    "df"
   ]
  },
  {
   "cell_type": "code",
   "execution_count": 102,
   "id": "8b35c70f-7d88-4080-9985-caa764e304e8",
   "metadata": {
    "tags": []
   },
   "outputs": [],
   "source": [
    "df_clean = df.drop(columns = ['salary','via', 'description','extensions', 'job_id', 'thumbnail', 'posted_at', 'search_term', 'date_time', 'commute_time']).copy()"
   ]
  },
  {
   "cell_type": "code",
   "execution_count": 103,
   "id": "38b5038d-81be-4098-b042-a624ea7cab48",
   "metadata": {
    "tags": []
   },
   "outputs": [],
   "source": [
    "salary_columns = ['salary_pay', 'salary_rate', 'salary_avg', 'salary_min', 'salary_max', 'salary_hourly', 'salary_yearly']\n",
    "df_clean.dropna(subset = salary_columns, how='all', inplace=True)"
   ]
  },
  {
   "cell_type": "code",
   "execution_count": 104,
   "id": "a703ace9-d554-4969-9594-e8788878d9e5",
   "metadata": {
    "tags": []
   },
   "outputs": [],
   "source": [
    "df_clean['schedule_type'] = np.where(df_clean['schedule_type'].str.contains('Full-time', case = False, na=False), 'Full-time', df_clean['schedule_type'])\n",
    "df_clean['schedule_type'] = np.where(df_clean['schedule_type'].str.contains('Part-time', case = False, na=False), 'Part-time', df_clean['schedule_type'])\n",
    "df_clean['schedule_type'] = np.where(df_clean['schedule_type'].str.contains('Contractor', case=False, na=False), 'Contractor', df_clean['schedule_type'])\n",
    "df_clean['schedule_type'] = np.where(df_clean['schedule_type'].isna(), 'Full-time', df_clean['schedule_type'])\n",
    "df_clean['work_from_home'] = np.where(df_clean['work_from_home'].isna() , 'False', df_clean['work_from_home'])\n",
    "df_clean['work_from_home'] = df_clean['work_from_home'].astype(str)"
   ]
  },
  {
   "cell_type": "code",
   "execution_count": 105,
   "id": "66b09d69-495e-4914-b8e3-47e484aab246",
   "metadata": {
    "tags": []
   },
   "outputs": [],
   "source": [
    "for k, row in df_clean.iterrows():\n",
    "    if row['salary_rate'] == 'a year':\n",
    "        df_clean.at[k,'yearly_min'] = row['salary_min']\n",
    "        df_clean.at[k,'yearly_max'] = row['salary_max']\n",
    "    ### Assuming someone works 40 hours and 52 weeks\n",
    "    if row['salary_rate'] == 'an hour':\n",
    "        df_clean.at[k,'yearly_min'] = row['salary_min'] * 40 * 52\n",
    "        df_clean.at[k,'yearly_max'] = row['salary_max'] * 40 * 52\n",
    "    ### Assuming someone works the full year\n",
    "    if row['salary_rate'] == 'a month':\n",
    "        df_clean.at[k,'yearly_min'] = row['salary_min'] * 12\n",
    "        df_clean.at[k,'yearly_max'] = row['salary_max'] * 12"
   ]
  },
  {
   "cell_type": "code",
   "execution_count": 106,
   "id": "b070018c-c39e-4a6f-a02d-aaebb107c6e1",
   "metadata": {
    "tags": []
   },
   "outputs": [],
   "source": [
    "for k, row in df_clean.iterrows():\n",
    "    if (isinstance(row['location'],str)) and row['location'].strip().lower() in ['united states', 'anywhere'] or pd.isna(row['location']) or row['work_from_home'] == 'True':\n",
    "        df_clean.at[k,'locations'] = 'Remote'\n",
    "    else:\n",
    "        df_clean.at[k,'locations'] = row['location']"
   ]
  },
  {
   "cell_type": "code",
   "execution_count": 107,
   "id": "5ee0dc5a-7319-4230-b0c4-b61364598f46",
   "metadata": {
    "tags": []
   },
   "outputs": [],
   "source": [
    "for index, row in df_clean.iterrows():\n",
    "    if row['work_from_home'] == 'False' and row['locations'] == 'Remote':\n",
    "        df_clean.at[index, 'locations'] = 'Unknown'"
   ]
  },
  {
   "cell_type": "code",
   "execution_count": 108,
   "id": "b9955448-1bc8-4f87-982d-ff96f41da3e7",
   "metadata": {
    "tags": []
   },
   "outputs": [],
   "source": [
    "df_clean['min_yearly'] = df_clean['yearly_min']"
   ]
  },
  {
   "cell_type": "code",
   "execution_count": 109,
   "id": "6b8ba0e4-768d-4c8f-9524-669417391865",
   "metadata": {
    "tags": []
   },
   "outputs": [],
   "source": [
    "df_clean['max_yearly'] = df_clean['yearly_max']"
   ]
  },
  {
   "cell_type": "code",
   "execution_count": 110,
   "id": "adbcdffc-aaec-44ab-b942-9e2f8f1f7489",
   "metadata": {
    "tags": []
   },
   "outputs": [],
   "source": [
    "quantile_min = df_clean['min_yearly'].quantile(0.025)\n",
    "quantile_max = df_clean['max_yearly'].quantile(0.975)\n",
    "\n",
    "df_clean = df_clean[\n",
    "    (df_clean['min_yearly'] >= quantile_min) & \n",
    "    (df_clean['min_yearly'] <= quantile_max) & \n",
    "    (df_clean['max_yearly'] >= quantile_min) & \n",
    "    (df_clean['max_yearly'] <= quantile_max)\n",
    "]\n",
    "\n",
    "df_clean.drop(['yearly_min', 'yearly_max'], axis=1, inplace=True)"
   ]
  },
  {
   "cell_type": "code",
   "execution_count": 111,
   "id": "1a4e0a20-3b32-4209-8d48-d76251c211a8",
   "metadata": {
    "tags": []
   },
   "outputs": [],
   "source": [
    "df_clean.drop(columns = ['Unnamed: 0','location','salary_pay', 'salary_avg', 'salary_min', 'salary_max', 'salary_hourly', 'salary_yearly', 'salary_standardized',], inplace=True)\n"
   ]
  },
  {
   "cell_type": "code",
   "execution_count": 112,
   "id": "f604ad31-74a8-4a7e-9119-8b4a610706b1",
   "metadata": {
    "tags": []
   },
   "outputs": [],
   "source": [
    "df_clean['state'] = df_clean['locations'].apply(lambda location: location.split(',')[-1].strip() if ',' in location else location)"
   ]
  },
  {
   "cell_type": "code",
   "execution_count": 113,
   "id": "0f012d9c-81a5-4289-9080-ad3cd9726c20",
   "metadata": {
    "tags": []
   },
   "outputs": [],
   "source": [
    "state_code = {\n",
    "    'Kansas': 'KS',\n",
    "    'Missouri': 'MO',\n",
    "    'Oklahoma': 'OK',\n",
    "    'AR': 'AR',\n",
    "    'CA': 'CA',\n",
    "    'KS': 'KS',\n",
    "    'NE': 'NE',\n",
    "    'NJ': 'NJ',\n",
    "    'TX': 'TX',\n",
    "    'Remote': 'Remote',\n",
    "    'Unknown': 'Unknown'}"
   ]
  },
  {
   "cell_type": "code",
   "execution_count": 114,
   "id": "d6fe55af-b60e-4337-8db9-96d8b52d62af",
   "metadata": {
    "tags": []
   },
   "outputs": [],
   "source": [
    "for index, row in df_clean.iterrows():\n",
    "    cleaned_state = row['state'].strip()\n",
    "    if cleaned_state in state_code:\n",
    "        df_clean.at[index, 'state'] = state_code[cleaned_state]"
   ]
  },
  {
   "cell_type": "code",
   "execution_count": 115,
   "id": "2599b5ba-50c9-4a73-b208-2a9fe5b4c930",
   "metadata": {
    "tags": []
   },
   "outputs": [],
   "source": [
    "for index, row in df_clean.iterrows():\n",
    "    if row['description_tokens'] == '[]':\n",
    "        df_clean.at[index, 'description_tokens'] = None"
   ]
  },
  {
   "cell_type": "code",
   "execution_count": 116,
   "id": "b35d0a97-b954-47d0-a1a1-a8a13cccecdf",
   "metadata": {
    "tags": []
   },
   "outputs": [],
   "source": [
    "## Creating a DataFrame with all unique skills required\n",
    "df_skill = pd.DataFrame()\n",
    "def safe_literal_eval(x):\n",
    "    try:\n",
    "        if x is not None:\n",
    "            return ast.literal_eval(x)\n",
    "        else:\n",
    "            return []\n",
    "    except (SyntaxError, ValueError):\n",
    "        return []\n",
    "df_clean['description_tokens'] = df_clean['description_tokens'].apply(safe_literal_eval)\n",
    "unique_skills = set()\n",
    "for skill_list in df_clean['description_tokens']:\n",
    "    for skill in skill_list:\n",
    "        unique_skills.add(skill)\n",
    "for skill in unique_skills:\n",
    "    counts = df_clean['description_tokens'].apply(lambda x:\n",
    "                                                  x.count(skill))\n",
    "    df_skill[skill] = counts\n",
    "df_clean.drop(columns = ['description_tokens'], inplace=True)\n",
    "\n",
    "\n",
    "\n",
    "\n",
    "\n"
   ]
  },
  {
   "cell_type": "code",
   "execution_count": 100,
   "id": "96904706-4c07-48e4-afc1-a5b55fb05f22",
   "metadata": {
    "tags": []
   },
   "outputs": [],
   "source": [
    "df_skill.to_csv('Skills.csv', sep=',', index=False, encoding='utf-8')"
   ]
  },
  {
   "cell_type": "code",
   "execution_count": 101,
   "id": "29ac9a43-9bf7-4986-afbd-bf84ad39126b",
   "metadata": {
    "tags": []
   },
   "outputs": [],
   "source": [
    "df_clean.to_csv('Cleaned.csv', sep=',', index=False, encoding='utf-8')"
   ]
  },
  {
   "cell_type": "code",
   "execution_count": 21,
   "id": "2817462f-ac85-40cc-8a45-4f9f0ca39362",
   "metadata": {
    "tags": []
   },
   "outputs": [
    {
     "data": {
      "text/plain": [
       "array(['Remote', 'Unknown', 'MO', 'OK', 'KS', 'AR', 'NJ', 'NE', 'CA',\n",
       "       'TX'], dtype=object)"
      ]
     },
     "execution_count": 21,
     "metadata": {},
     "output_type": "execute_result"
    }
   ],
   "source": [
    "df_clean['state'].unique()"
   ]
  },
  {
   "cell_type": "code",
   "execution_count": 23,
   "id": "fba7dc17-da26-4aae-8d64-8c55d4fcf01b",
   "metadata": {
    "tags": []
   },
   "outputs": [],
   "source": [
    "fips = {\n",
    "    'MO':29,\n",
    "    'OK':40,\n",
    "    'KS':20,\n",
    "    'AR':0o5,\n",
    "    'NJ':34,\n",
    "    'NE':31,\n",
    "    'CA':0o6,\n",
    "    'TX':48}\n",
    "    "
   ]
  },
  {
   "cell_type": "code",
   "execution_count": 118,
   "id": "ea9ba188-1fe2-48c7-9a55-f8466ad7ffca",
   "metadata": {
    "tags": []
   },
   "outputs": [
    {
     "data": {
      "text/plain": [
       "5         NaN\n",
       "21        NaN\n",
       "25        NaN\n",
       "65        NaN\n",
       "76        NaN\n",
       "         ... \n",
       "37175    29.0\n",
       "37176    29.0\n",
       "37177    29.0\n",
       "37178    29.0\n",
       "37179     NaN\n",
       "Name: state_fips, Length: 5858, dtype: float64"
      ]
     },
     "execution_count": 118,
     "metadata": {},
     "output_type": "execute_result"
    }
   ],
   "source": [
    "df_clean['high_low_mean'] = (df_clean['min_yearly'] + df_clean['max_yearly']) / 2\n",
    "df_clean['state_fips'] = df_clean['state'].apply(lambda state: fips.get(state) if state in fips else None)\n",
    "#temp_df = df_clean.groupby('state_fips')['high_low_mean'].agg(['mean', 'count']).reset_index()\n",
    "#temp_df.columns = ['fips', 'Mean Salary', 'freq']\n",
    "df_clean['state_fips']"
   ]
  },
  {
   "cell_type": "code",
   "execution_count": 88,
   "id": "68cdb987-d660-4a6f-893a-f0ecea538a47",
   "metadata": {
    "tags": []
   },
   "outputs": [],
   "source": [
    "import geopandas as gpd\n"
   ]
  },
  {
   "cell_type": "code",
   "execution_count": 87,
   "id": "dfff3d56-fd94-44c0-968c-64893e0f7e21",
   "metadata": {
    "tags": []
   },
   "outputs": [
    {
     "data": {
      "text/plain": [
       "139      29.0\n",
       "155      40.0\n",
       "164      29.0\n",
       "176      29.0\n",
       "183      29.0\n",
       "         ... \n",
       "37167    29.0\n",
       "37175    29.0\n",
       "37176    29.0\n",
       "37177    29.0\n",
       "37178    29.0\n",
       "Name: state_fips, Length: 1112, dtype: float64"
      ]
     },
     "execution_count": 87,
     "metadata": {},
     "output_type": "execute_result"
    }
   ],
   "source": [
    "df_clean['state_fips'].dropna()"
   ]
  },
  {
   "cell_type": "code",
   "execution_count": null,
   "id": "005ac5ae-4d6a-4f2e-9bc7-f7e717cfc25a",
   "metadata": {},
   "outputs": [],
   "source": [
    "def plot_map():\n",
    "    counties = load_geopa('./us_census/cb_2018_us_state_5m.shp')\n",
    "    fips = {\n",
    "        'MO': 29,\n",
    "        'OK': 40,\n",
    "        'KS': 20,\n",
    "        'AR': 5,\n",
    "        'NJ': 34,\n",
    "        'NE': 31,\n",
    "        'CA': 6,\n",
    "        'TX': 48}\n",
    "\n",
    "    df_clean['state_fips'] = df_clean['state'].apply(lambda state: fips.get(state) if state in fips else None)\n",
    "    temp_df = df_clean.groupby('state_fips')['high_low_mean'].agg(['mean', 'count']).reset_index()\n",
    "    temp_df.columns = ['STATEFP', 'Mean Salary', 'freq']\n",
    "    temp_df['STATEFP'] = temp_df['STATEFP'].astype(int)\n",
    "\n",
    "    fig = px.choropleth_mapbox(temp_df,geojson=counties, locations='STATEFP',color = 'Mean Salary',\n",
    "                               color_continuous_scale=\"Blues\",\n",
    "                               range_color=(temp_df['Mean Salary'].min(), temp_df['Mean Salary'].max()),\n",
    "                               mapbox_style=\"carto-positron\",\n",
    "                               zoom=3, center={\"lat\": 37.0902, \"lon\": -95.7129},\n",
    "                               opacity=0.5,\n",
    "                               labels={'freq': 'Mean Salary'}\n",
    "                               )\n",
    "    fig.update_layout(margin={\"r\": 50, \"t\": 0, \"l\": 0, \"b\": 0})\n",
    "    st.plotly_chart(fig, use_container_width=True)\n"
   ]
  },
  {
   "cell_type": "code",
   "execution_count": 91,
   "id": "c9bdfdd3-12a3-48ff-80b6-cf2307de6374",
   "metadata": {
    "tags": []
   },
   "outputs": [
    {
     "data": {
      "text/html": [
       "<div>\n",
       "<style scoped>\n",
       "    .dataframe tbody tr th:only-of-type {\n",
       "        vertical-align: middle;\n",
       "    }\n",
       "\n",
       "    .dataframe tbody tr th {\n",
       "        vertical-align: top;\n",
       "    }\n",
       "\n",
       "    .dataframe thead th {\n",
       "        text-align: right;\n",
       "    }\n",
       "</style>\n",
       "<table border=\"1\" class=\"dataframe\">\n",
       "  <thead>\n",
       "    <tr style=\"text-align: right;\">\n",
       "      <th></th>\n",
       "      <th>STATEFP</th>\n",
       "      <th>STATENS</th>\n",
       "      <th>AFFGEOID</th>\n",
       "      <th>GEOID</th>\n",
       "      <th>STUSPS</th>\n",
       "      <th>NAME</th>\n",
       "      <th>LSAD</th>\n",
       "      <th>ALAND</th>\n",
       "      <th>AWATER</th>\n",
       "      <th>geometry</th>\n",
       "    </tr>\n",
       "  </thead>\n",
       "  <tbody>\n",
       "    <tr>\n",
       "      <th>0</th>\n",
       "      <td>35</td>\n",
       "      <td>00897535</td>\n",
       "      <td>0400000US35</td>\n",
       "      <td>35</td>\n",
       "      <td>NM</td>\n",
       "      <td>New Mexico</td>\n",
       "      <td>00</td>\n",
       "      <td>314198573403</td>\n",
       "      <td>726463825</td>\n",
       "      <td>POLYGON ((-109.05017 31.48000, -109.04984 31.4...</td>\n",
       "    </tr>\n",
       "    <tr>\n",
       "      <th>1</th>\n",
       "      <td>46</td>\n",
       "      <td>01785534</td>\n",
       "      <td>0400000US46</td>\n",
       "      <td>46</td>\n",
       "      <td>SD</td>\n",
       "      <td>South Dakota</td>\n",
       "      <td>00</td>\n",
       "      <td>196341552329</td>\n",
       "      <td>3387681983</td>\n",
       "      <td>POLYGON ((-104.05788 44.99761, -104.05078 44.9...</td>\n",
       "    </tr>\n",
       "    <tr>\n",
       "      <th>2</th>\n",
       "      <td>06</td>\n",
       "      <td>01779778</td>\n",
       "      <td>0400000US06</td>\n",
       "      <td>06</td>\n",
       "      <td>CA</td>\n",
       "      <td>California</td>\n",
       "      <td>00</td>\n",
       "      <td>403673617862</td>\n",
       "      <td>20291712025</td>\n",
       "      <td>MULTIPOLYGON (((-118.60442 33.47855, -118.5987...</td>\n",
       "    </tr>\n",
       "    <tr>\n",
       "      <th>3</th>\n",
       "      <td>21</td>\n",
       "      <td>01779786</td>\n",
       "      <td>0400000US21</td>\n",
       "      <td>21</td>\n",
       "      <td>KY</td>\n",
       "      <td>Kentucky</td>\n",
       "      <td>00</td>\n",
       "      <td>102266581101</td>\n",
       "      <td>2384240769</td>\n",
       "      <td>MULTIPOLYGON (((-89.40565 36.52817, -89.39869 ...</td>\n",
       "    </tr>\n",
       "    <tr>\n",
       "      <th>4</th>\n",
       "      <td>01</td>\n",
       "      <td>01779775</td>\n",
       "      <td>0400000US01</td>\n",
       "      <td>01</td>\n",
       "      <td>AL</td>\n",
       "      <td>Alabama</td>\n",
       "      <td>00</td>\n",
       "      <td>131185042550</td>\n",
       "      <td>4582333181</td>\n",
       "      <td>MULTIPOLYGON (((-88.05338 30.50699, -88.05109 ...</td>\n",
       "    </tr>\n",
       "  </tbody>\n",
       "</table>\n",
       "</div>"
      ],
      "text/plain": [
       "  STATEFP   STATENS     AFFGEOID GEOID STUSPS          NAME LSAD  \\\n",
       "0      35  00897535  0400000US35    35     NM    New Mexico   00   \n",
       "1      46  01785534  0400000US46    46     SD  South Dakota   00   \n",
       "2      06  01779778  0400000US06    06     CA    California   00   \n",
       "3      21  01779786  0400000US21    21     KY      Kentucky   00   \n",
       "4      01  01779775  0400000US01    01     AL       Alabama   00   \n",
       "\n",
       "          ALAND       AWATER  \\\n",
       "0  314198573403    726463825   \n",
       "1  196341552329   3387681983   \n",
       "2  403673617862  20291712025   \n",
       "3  102266581101   2384240769   \n",
       "4  131185042550   4582333181   \n",
       "\n",
       "                                            geometry  \n",
       "0  POLYGON ((-109.05017 31.48000, -109.04984 31.4...  \n",
       "1  POLYGON ((-104.05788 44.99761, -104.05078 44.9...  \n",
       "2  MULTIPOLYGON (((-118.60442 33.47855, -118.5987...  \n",
       "3  MULTIPOLYGON (((-89.40565 36.52817, -89.39869 ...  \n",
       "4  MULTIPOLYGON (((-88.05338 30.50699, -88.05109 ...  "
      ]
     },
     "execution_count": 91,
     "metadata": {},
     "output_type": "execute_result"
    }
   ],
   "source": [
    "gdf = gpd.read_file('./us_census/cb_2022_us_state_500k.shp')\n",
    "gdf.head()"
   ]
  },
  {
   "cell_type": "code",
   "execution_count": 125,
   "id": "0d617da8-0100-4776-a0bc-4ed5be590d45",
   "metadata": {
    "tags": []
   },
   "outputs": [
    {
     "ename": "KeyError",
     "evalue": "'Mean Salary'",
     "output_type": "error",
     "traceback": [
      "\u001b[1;31m---------------------------------------------------------------------------\u001b[0m",
      "\u001b[1;31mKeyError\u001b[0m                                  Traceback (most recent call last)",
      "File \u001b[1;32m~\\anaconda3\\Lib\\site-packages\\pandas\\core\\indexes\\base.py:3653\u001b[0m, in \u001b[0;36mIndex.get_loc\u001b[1;34m(self, key)\u001b[0m\n\u001b[0;32m   3652\u001b[0m \u001b[38;5;28;01mtry\u001b[39;00m:\n\u001b[1;32m-> 3653\u001b[0m     \u001b[38;5;28;01mreturn\u001b[39;00m \u001b[38;5;28mself\u001b[39m\u001b[38;5;241m.\u001b[39m_engine\u001b[38;5;241m.\u001b[39mget_loc(casted_key)\n\u001b[0;32m   3654\u001b[0m \u001b[38;5;28;01mexcept\u001b[39;00m \u001b[38;5;167;01mKeyError\u001b[39;00m \u001b[38;5;28;01mas\u001b[39;00m err:\n",
      "File \u001b[1;32m~\\anaconda3\\Lib\\site-packages\\pandas\\_libs\\index.pyx:147\u001b[0m, in \u001b[0;36mpandas._libs.index.IndexEngine.get_loc\u001b[1;34m()\u001b[0m\n",
      "File \u001b[1;32m~\\anaconda3\\Lib\\site-packages\\pandas\\_libs\\index.pyx:176\u001b[0m, in \u001b[0;36mpandas._libs.index.IndexEngine.get_loc\u001b[1;34m()\u001b[0m\n",
      "File \u001b[1;32mpandas\\_libs\\hashtable_class_helper.pxi:7080\u001b[0m, in \u001b[0;36mpandas._libs.hashtable.PyObjectHashTable.get_item\u001b[1;34m()\u001b[0m\n",
      "File \u001b[1;32mpandas\\_libs\\hashtable_class_helper.pxi:7088\u001b[0m, in \u001b[0;36mpandas._libs.hashtable.PyObjectHashTable.get_item\u001b[1;34m()\u001b[0m\n",
      "\u001b[1;31mKeyError\u001b[0m: 'Mean Salary'",
      "\nThe above exception was the direct cause of the following exception:\n",
      "\u001b[1;31mKeyError\u001b[0m                                  Traceback (most recent call last)",
      "Cell \u001b[1;32mIn[125], line 6\u001b[0m\n\u001b[0;32m      4\u001b[0m temp_df[\u001b[38;5;124m'\u001b[39m\u001b[38;5;124mstate_fips\u001b[39m\u001b[38;5;124m'\u001b[39m] \u001b[38;5;241m=\u001b[39m temp_df[\u001b[38;5;124m'\u001b[39m\u001b[38;5;124mstate_fips\u001b[39m\u001b[38;5;124m'\u001b[39m]\u001b[38;5;241m.\u001b[39mastype(\u001b[38;5;28mint\u001b[39m)\n\u001b[0;32m      5\u001b[0m temp_df[\u001b[38;5;124m'\u001b[39m\u001b[38;5;124mMean Salary\u001b[39m\u001b[38;5;124m'\u001b[39m] \u001b[38;5;241m=\u001b[39m temp_df[\u001b[38;5;124m'\u001b[39m\u001b[38;5;124mMean Salary\u001b[39m\u001b[38;5;124m'\u001b[39m]\u001b[38;5;241m.\u001b[39mround(\u001b[38;5;241m2\u001b[39m)\n\u001b[1;32m----> 6\u001b[0m df_clean[\u001b[38;5;124m'\u001b[39m\u001b[38;5;124mMean Salary\u001b[39m\u001b[38;5;124m'\u001b[39m]\u001b[38;5;241m.\u001b[39mmin()\n",
      "File \u001b[1;32m~\\anaconda3\\Lib\\site-packages\\pandas\\core\\frame.py:3761\u001b[0m, in \u001b[0;36mDataFrame.__getitem__\u001b[1;34m(self, key)\u001b[0m\n\u001b[0;32m   3759\u001b[0m \u001b[38;5;28;01mif\u001b[39;00m \u001b[38;5;28mself\u001b[39m\u001b[38;5;241m.\u001b[39mcolumns\u001b[38;5;241m.\u001b[39mnlevels \u001b[38;5;241m>\u001b[39m \u001b[38;5;241m1\u001b[39m:\n\u001b[0;32m   3760\u001b[0m     \u001b[38;5;28;01mreturn\u001b[39;00m \u001b[38;5;28mself\u001b[39m\u001b[38;5;241m.\u001b[39m_getitem_multilevel(key)\n\u001b[1;32m-> 3761\u001b[0m indexer \u001b[38;5;241m=\u001b[39m \u001b[38;5;28mself\u001b[39m\u001b[38;5;241m.\u001b[39mcolumns\u001b[38;5;241m.\u001b[39mget_loc(key)\n\u001b[0;32m   3762\u001b[0m \u001b[38;5;28;01mif\u001b[39;00m is_integer(indexer):\n\u001b[0;32m   3763\u001b[0m     indexer \u001b[38;5;241m=\u001b[39m [indexer]\n",
      "File \u001b[1;32m~\\anaconda3\\Lib\\site-packages\\pandas\\core\\indexes\\base.py:3655\u001b[0m, in \u001b[0;36mIndex.get_loc\u001b[1;34m(self, key)\u001b[0m\n\u001b[0;32m   3653\u001b[0m     \u001b[38;5;28;01mreturn\u001b[39;00m \u001b[38;5;28mself\u001b[39m\u001b[38;5;241m.\u001b[39m_engine\u001b[38;5;241m.\u001b[39mget_loc(casted_key)\n\u001b[0;32m   3654\u001b[0m \u001b[38;5;28;01mexcept\u001b[39;00m \u001b[38;5;167;01mKeyError\u001b[39;00m \u001b[38;5;28;01mas\u001b[39;00m err:\n\u001b[1;32m-> 3655\u001b[0m     \u001b[38;5;28;01mraise\u001b[39;00m \u001b[38;5;167;01mKeyError\u001b[39;00m(key) \u001b[38;5;28;01mfrom\u001b[39;00m \u001b[38;5;21;01merr\u001b[39;00m\n\u001b[0;32m   3656\u001b[0m \u001b[38;5;28;01mexcept\u001b[39;00m \u001b[38;5;167;01mTypeError\u001b[39;00m:\n\u001b[0;32m   3657\u001b[0m     \u001b[38;5;66;03m# If we have a listlike key, _check_indexing_error will raise\u001b[39;00m\n\u001b[0;32m   3658\u001b[0m     \u001b[38;5;66;03m#  InvalidIndexError. Otherwise we fall through and re-raise\u001b[39;00m\n\u001b[0;32m   3659\u001b[0m     \u001b[38;5;66;03m#  the TypeError.\u001b[39;00m\n\u001b[0;32m   3660\u001b[0m     \u001b[38;5;28mself\u001b[39m\u001b[38;5;241m.\u001b[39m_check_indexing_error(key)\n",
      "\u001b[1;31mKeyError\u001b[0m: 'Mean Salary'"
     ]
    }
   ],
   "source": [
    "df_clean['state_fips'] = df_clean['state'].apply(lambda state: fips.get(state) if state in fips else None)\n",
    "temp_df = df_clean.groupby('state_fips')['high_low_mean'].agg(['mean', 'count']).reset_index()\n",
    "temp_df.columns = ['state_fips', 'Mean Salary', 'Frequency']\n",
    "temp_df['state_fips'] = temp_df['state_fips'].astype(int)\n",
    "temp_df['Mean Salary'] = temp_df['Mean Salary'].round(2)\n",
    "df_clean['Mean Salary'].min()"
   ]
  },
  {
   "cell_type": "code",
   "execution_count": null,
   "id": "d0483ea2-1898-4a4f-aed1-76e9e72514ac",
   "metadata": {},
   "outputs": [],
   "source": [
    " fig = go.Figure(data=go.Choropleth(\n",
    "        locations=['State'],\n",
    "        locationmode='USA-states',\n",
    "        z=temp_df['Mean Salary'].round(2),\n",
    "        text=temp_df,\n",
    "        marker_line_color='black',\n",
    "        colorbar_title='USD($)'\n",
    "    ))"
   ]
  }
 ],
 "metadata": {
  "kernelspec": {
   "display_name": "Python 3 (ipykernel)",
   "language": "python",
   "name": "python3"
  },
  "language_info": {
   "codemirror_mode": {
    "name": "ipython",
    "version": 3
   },
   "file_extension": ".py",
   "mimetype": "text/x-python",
   "name": "python",
   "nbconvert_exporter": "python",
   "pygments_lexer": "ipython3",
   "version": "3.11.5"
  }
 },
 "nbformat": 4,
 "nbformat_minor": 5
}
